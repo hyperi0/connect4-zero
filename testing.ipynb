{
 "cells": [
  {
   "cell_type": "code",
   "execution_count": 1,
   "metadata": {},
   "outputs": [
    {
     "name": "stdout",
     "output_type": "stream",
     "text": [
      "Loading environment lux_ai_s2 failed: No module named 'vec_noise'\n"
     ]
    }
   ],
   "source": [
    "import connectx\n",
    "from connectx_zero import ConnectXAgent\n",
    "import numpy as np\n",
    "from kaggle_environments import make"
   ]
  },
  {
   "cell_type": "code",
   "execution_count": 2,
   "metadata": {},
   "outputs": [],
   "source": [
    "env = make(\"connectx\")\n",
    "n_sims = 100\n",
    "c_puct = 1\n",
    "agent = ConnectXAgent(env, n_sims, c_puct)"
   ]
  },
  {
   "cell_type": "code",
   "execution_count": 3,
   "metadata": {},
   "outputs": [
    {
     "ename": "TypeError",
     "evalue": "search() takes 2 positional arguments but 3 were given",
     "output_type": "error",
     "traceback": [
      "\u001b[0;31m---------------------------------------------------------------------------\u001b[0m",
      "\u001b[0;31mTypeError\u001b[0m                                 Traceback (most recent call last)",
      "\u001b[1;32m/Users/ben/code/kaggle-sim/testing.ipynb Cell 3\u001b[0m line \u001b[0;36m1\n\u001b[0;32m----> <a href='vscode-notebook-cell:/Users/ben/code/kaggle-sim/testing.ipynb#X20sZmlsZQ%3D%3D?line=0'>1</a>\u001b[0m agent\u001b[39m.\u001b[39;49mexecute_episode()\n",
      "File \u001b[0;32m~/code/kaggle-sim/connectx_zero.py:41\u001b[0m, in \u001b[0;36mConnectXAgent.execute_episode\u001b[0;34m(self)\u001b[0m\n\u001b[1;32m     39\u001b[0m \u001b[39mwhile\u001b[39;00m \u001b[39mTrue\u001b[39;00m:\n\u001b[1;32m     40\u001b[0m     \u001b[39mfor\u001b[39;00m _ \u001b[39min\u001b[39;00m \u001b[39mrange\u001b[39m(\u001b[39mself\u001b[39m\u001b[39m.\u001b[39mn_sims_train):\n\u001b[0;32m---> 41\u001b[0m         tree\u001b[39m.\u001b[39;49msearch(s, mark)\n\u001b[1;32m     42\u001b[0m     action_probs \u001b[39m=\u001b[39m tree\u001b[39m.\u001b[39mpi(s)\n\u001b[1;32m     43\u001b[0m     examples\u001b[39m.\u001b[39mappend([s, action_probs])\n",
      "\u001b[0;31mTypeError\u001b[0m: search() takes 2 positional arguments but 3 were given"
     ]
    }
   ],
   "source": [
    "agent.execute_episode()"
   ]
  },
  {
   "cell_type": "code",
   "execution_count": 5,
   "metadata": {},
   "outputs": [],
   "source": [
    "board = tuple(map(tuple, np.zeros((6,7), dtype=int)))"
   ]
  },
  {
   "cell_type": "code",
   "execution_count": 6,
   "metadata": {},
   "outputs": [
    {
     "data": {
      "text/plain": [
       "((0, 0, 0, 0, 0, 0, 0),\n",
       " (0, 0, 0, 0, 0, 0, 0),\n",
       " (0, 0, 0, 0, 0, 0, 0),\n",
       " (0, 0, 0, 0, 0, 0, 0),\n",
       " (0, 0, 0, 0, 0, 0, 0),\n",
       " (0, 0, 0, 0, 0, 0, 0))"
      ]
     },
     "execution_count": 6,
     "metadata": {},
     "output_type": "execute_result"
    }
   ],
   "source": [
    "board"
   ]
  },
  {
   "cell_type": "code",
   "execution_count": 7,
   "metadata": {},
   "outputs": [],
   "source": [
    "board = ((0,1,0),(-1,0,0),(0,0,0))"
   ]
  },
  {
   "cell_type": "code",
   "execution_count": 13,
   "metadata": {},
   "outputs": [
    {
     "data": {
      "text/plain": [
       "((0, -1, 0), (1, 0, 0), (0, 0, 0))"
      ]
     },
     "execution_count": 13,
     "metadata": {},
     "output_type": "execute_result"
    }
   ],
   "source": [
    "tuple(map(tuple, (-1*np.asarray(board))))"
   ]
  },
  {
   "cell_type": "code",
   "execution_count": null,
   "metadata": {},
   "outputs": [],
   "source": []
  }
 ],
 "metadata": {
  "kernelspec": {
   "display_name": "kaggle-sim",
   "language": "python",
   "name": "python3"
  },
  "language_info": {
   "codemirror_mode": {
    "name": "ipython",
    "version": 3
   },
   "file_extension": ".py",
   "mimetype": "text/x-python",
   "name": "python",
   "nbconvert_exporter": "python",
   "pygments_lexer": "ipython3",
   "version": "3.8.18"
  }
 },
 "nbformat": 4,
 "nbformat_minor": 2
}
